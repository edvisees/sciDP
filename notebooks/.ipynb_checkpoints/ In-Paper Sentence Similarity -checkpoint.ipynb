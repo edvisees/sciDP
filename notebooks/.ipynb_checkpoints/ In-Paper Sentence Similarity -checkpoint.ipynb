{
 "cells": [
  {
   "cell_type": "code",
   "execution_count": 68,
   "metadata": {
    "collapsed": false
   },
   "outputs": [
    {
     "ename": "TypeError",
     "evalue": "tuple indices must be integers, not str",
     "output_type": "error",
     "traceback": [
      "\u001b[1;31m---------------------------------------------------------------------------\u001b[0m",
      "\u001b[1;31mTypeError\u001b[0m                                 Traceback (most recent call last)",
      "\u001b[1;32m<ipython-input-68-b0b629e656b3>\u001b[0m in \u001b[0;36m<module>\u001b[1;34m()\u001b[0m\n\u001b[0;32m     49\u001b[0m         \u001b[0mfiles\u001b[0m\u001b[1;33m.\u001b[0m\u001b[0mappend\u001b[0m\u001b[1;33m(\u001b[0m\u001b[0mdata_dir\u001b[0m\u001b[1;33m+\u001b[0m \u001b[1;34m\"/\"\u001b[0m \u001b[1;33m+\u001b[0m \u001b[0mfn\u001b[0m\u001b[1;33m)\u001b[0m\u001b[1;33m\u001b[0m\u001b[0m\n\u001b[0;32m     50\u001b[0m         \u001b[0mtsv\u001b[0m \u001b[1;33m=\u001b[0m \u001b[0mpd\u001b[0m\u001b[1;33m.\u001b[0m\u001b[0mread_csv\u001b[0m\u001b[1;33m(\u001b[0m\u001b[0mdata_dir\u001b[0m\u001b[1;33m+\u001b[0m\u001b[1;34m'/'\u001b[0m\u001b[1;33m+\u001b[0m\u001b[0mfn\u001b[0m\u001b[1;33m,\u001b[0m \u001b[0msep\u001b[0m\u001b[1;33m=\u001b[0m\u001b[1;34m'\\t'\u001b[0m\u001b[1;33m)\u001b[0m\u001b[1;33m\u001b[0m\u001b[0m\n\u001b[1;32m---> 51\u001b[1;33m         \u001b[0mdata_from_pmid\u001b[0m \u001b[1;33m=\u001b[0m \u001b[0mread_sentences_from_tsv\u001b[0m\u001b[1;33m(\u001b[0m \u001b[0mtsv\u001b[0m \u001b[1;33m)\u001b[0m\u001b[1;33m\u001b[0m\u001b[0m\n\u001b[0m\u001b[0;32m     52\u001b[0m         \u001b[0mdata\u001b[0m\u001b[1;33m[\u001b[0m\u001b[0mpmid\u001b[0m\u001b[1;33m]\u001b[0m \u001b[1;33m=\u001b[0m \u001b[0mdata_from_pmid\u001b[0m\u001b[1;33m\u001b[0m\u001b[0m\n\u001b[0;32m     53\u001b[0m \u001b[1;32mprint\u001b[0m \u001b[0mdata\u001b[0m\u001b[1;33m\u001b[0m\u001b[0m\n",
      "\u001b[1;32m<ipython-input-68-b0b629e656b3>\u001b[0m in \u001b[0;36mread_sentences_from_tsv\u001b[1;34m(tsv)\u001b[0m\n\u001b[0;32m     15\u001b[0m     \u001b[0mold_sentence\u001b[0m \u001b[1;33m=\u001b[0m \u001b[1;34m''\u001b[0m\u001b[1;33m\u001b[0m\u001b[0m\n\u001b[0;32m     16\u001b[0m     \u001b[1;32mfor\u001b[0m \u001b[0mrow\u001b[0m \u001b[1;32min\u001b[0m \u001b[0mtsv\u001b[0m\u001b[1;33m.\u001b[0m\u001b[0miterrows\u001b[0m\u001b[1;33m(\u001b[0m\u001b[1;33m)\u001b[0m\u001b[1;33m:\u001b[0m\u001b[1;33m\u001b[0m\u001b[0m\n\u001b[1;32m---> 17\u001b[1;33m         \u001b[0mclause\u001b[0m \u001b[1;33m=\u001b[0m \u001b[0mrow\u001b[0m\u001b[1;33m[\u001b[0m\u001b[1;34m'Clause Text'\u001b[0m\u001b[1;33m]\u001b[0m\u001b[1;33m\u001b[0m\u001b[0m\n\u001b[0m\u001b[0;32m     18\u001b[0m         \u001b[0mparagraph\u001b[0m \u001b[1;33m=\u001b[0m \u001b[0mrow\u001b[0m\u001b[1;33m[\u001b[0m\u001b[1;34m'Paragraph'\u001b[0m\u001b[1;33m]\u001b[0m\u001b[1;33m\u001b[0m\u001b[0m\n\u001b[0;32m     19\u001b[0m         \u001b[0msentence\u001b[0m \u001b[1;33m=\u001b[0m \u001b[0mrow\u001b[0m\u001b[1;33m[\u001b[0m\u001b[1;34m'SentenceId'\u001b[0m\u001b[1;33m]\u001b[0m\u001b[1;33m\u001b[0m\u001b[0m\n",
      "\u001b[1;31mTypeError\u001b[0m: tuple indices must be integers, not str"
     ]
    }
   ],
   "source": [
    "import os\n",
    "import pandas as pd\n",
    "import numpy as np\n",
    "\n",
    "from sklearn.feature_extraction.text import CountVectorizer\n",
    "from sklearn.cross_validation import train_test_split\n",
    "\n",
    "def read_sentences_from_tsv(tsv):\n",
    "    str_seqs = []\n",
    "    str_seq = []\n",
    "    label_seqs = []\n",
    "    label_seq = []\n",
    "    pmids = {}\n",
    "    \n",
    "    old_sentence = ''\n",
    "    for idx,row in tsv.iterrows():\n",
    "        clause = row['Clause Text']\n",
    "        paragraph = row['Paragraph']\n",
    "        sentence = row['SentenceId']\n",
    "        discourse = row['Discourse Type']\n",
    "\n",
    "        if sentence != old_sentence:\n",
    "            if len(str_seq) != 0:\n",
    "                str_seqs.append(str_seq)\n",
    "                str_seq = []\n",
    "                label_seqs.append(label_seq)\n",
    "                label_seq = []\n",
    "\n",
    "        str_seq.append(clause)\n",
    "        label_seq.append(discourse.strip())\n",
    "        old_sentence = sentence\n",
    "            \n",
    "    if len(str_seq) != 0:\n",
    "        str_seqs.append(str_seq)\n",
    "        str_seq = []\n",
    "        label_seqs.append(label_seq)\n",
    "        label_seq = []\n",
    "                \n",
    "    return pmids, str_seqs, label_seqs\n",
    "\n",
    "data_dir = \"/tmp/data/scidt_tsv_annotated\"\n",
    "\n",
    "data = {}\n",
    "files = []\n",
    "clauses = []\n",
    "for fn in os.listdir(data_dir):\n",
    "    if os.path.isfile(data_dir+'/'+fn) and fn[-4:]=='.tsv' :\n",
    "        pmid = fn[:len(fn)-10]\n",
    "        files.append(data_dir+ \"/\" + fn)\n",
    "        tsv = pd.read_csv(data_dir+'/'+fn, sep='\\t')\n",
    "        data_from_pmid = read_sentences_from_tsv( tsv )\n",
    "        data[pmid] = data_from_pmid      \n",
    "print data"
   ]
  },
  {
   "cell_type": "code",
   "execution_count": 65,
   "metadata": {
    "collapsed": false
   },
   "outputs": [
    {
     "name": "stdout",
     "output_type": "stream",
     "text": [
      "({'9971737': ([['to act as important elements in integrin-mediated signaling ( Schlaepfer et al. , 1998 ) .']], [['result']]), '10085298': ([['to regulate actin fiber assembly and cytokinesis in both yeast ( Li , 1997 ) and mammalian ( Symons et al. , 1996 ) cells .']], [['result']]), '19734906': ([['addressing this question .']], [['goal']]), '15314656': ([['as described above .'], ['Cells were incubated in growth medium containing 1 mug/ml colcemid for 16 h .']], [['method'], ['method']]), '16848641': ([['uninfected or were infected for 5 h with F. novicida .'], ['Cells were lysed in 100 mul of Luciferase Cell Culture Lysis Reagent ( Promega , Madison , Wisconsin , United States ) .']], [['method'], ['method']]), '18604198': ([[\"and significance was determined using Student 's 2-tailed unpaired t-test .\"], ['Viability Assays']], [['method'], ['none']]), '18583988': ([['Melander F , Bekker-Jensen S , Falck J , Bartek J , Mailand N , Lukas J ( 2008 ) Phosphorylation of SDT repeats in the MDC1 N terminus triggers retention of NBS1 at the DNA damage-modified chromatin .']], [['none']]), '11238593': ([['as assessed by immunoprecipitation was not affected by the aly mutation ( our unpublished observation ) , although the aly mutation resides in a putative TRAF-binding domain of NIK 31 .']], [['result']]), '10790433': ([['that abnormal alterations of the phosphorylation status of PAG under certain pathological conditions ( e.g. , at sites of local inflammation ) and thus decreased Csk binding may contribute to hyperactivity of T cells ( and other leukocytes as well ) .'], ['This could be a factor contributing to development of some autoimmune disorders , for example .'], ['The phosphatase ( s ) involved in PAG dephosphorylation might thus be an interesting target for pharmacological intervention .']], [['hypothesis'], ['hypothesis'], ['hypothesis']]), '9128250': ([['that phospholipids and/or Gbetagamma subunits are involved in their intracellular localization and/or activation .']], [['hypothesis']]), '17276402': ([['that VEGF stimulates the transient activation of AMPK in cultured endothelial cells in a PLC - and CaMKK-dependent manner .'], ['AMPK , therefore , represents a novel component of VEGF signalling .']], [['implication'], ['implication']]), '10704436': ([['that nuclear export of MAPK involves a MAPKK-dependent , active transport mechanism .'], ['Because inactivated MAPK preferentially binds to MAPKK , MAPK , once deactivated in the nucleus , would be rapidly excluded from the nucleus .']], [['implication'], ['hypothesis']]), '16729043': ([['as significant .']], [['result']]), '9625767': ([['that p38 and other MAP kinases are involved in TNF-induced IL-6 gene expression via modulation of transactivation potential of NF-kB without affecting its DNA binding activity ( 37 ) .']], [['implication']]), '16602827': ([['it does not inhibit the STF reporter in 293Fz4 cells .']], [['result']]), '9700154': ([['providing an indication that inactive MAPK can bind to the nuclear anchor ( s ) .'], ['One of the next steps in our future investigation of MAPK nuclear signaling will clearly be the identification of the nuclear anchoring components and the analysis of the MAPK activity from the nuclear pool .']], [['implication'], ['goal']])}, [['as had been suggested for v-Src ( Fincham et al. , 1995 ; Hildebrand et al. , 1993 ) .']], [['hypothesis']])\n"
     ]
    }
   ],
   "source": []
  },
  {
   "cell_type": "code",
   "execution_count": 54,
   "metadata": {
    "collapsed": false
   },
   "outputs": [
    {
     "name": "stdout",
     "output_type": "stream",
     "text": [
      "(3254, 50)\n"
     ]
    }
   ],
   "source": [
    "from sklearn.feature_extraction.text import CountVectorizer\n",
    "\n",
    "vectorizer = TfidfVectorizer(max_df=0.5, \n",
    "                             max_features=50,\n",
    "                             min_df=2, \n",
    "                             stop_words='english'\n",
    "                            )\n",
    "X = vectorizer.fit_transform(sentences)\n",
    "print X.shape\n"
   ]
  },
  {
   "cell_type": "code",
   "execution_count": 62,
   "metadata": {
    "collapsed": false
   },
   "outputs": [
    {
     "name": "stdout",
     "output_type": "stream",
     "text": [
      "Initialization complete\n",
      "Iteration  0, inertia 5135.651\n",
      "Iteration  1, inertia 2858.126\n",
      "Iteration  2, inertia 2821.521\n",
      "Iteration  3, inertia 2805.059\n",
      "Iteration  4, inertia 2796.352\n",
      "Iteration  5, inertia 2791.557\n",
      "Iteration  6, inertia 2788.768\n",
      "Iteration  7, inertia 2786.581\n",
      "Iteration  8, inertia 2785.083\n",
      "Iteration  9, inertia 2784.345\n",
      "Iteration 10, inertia 2783.780\n",
      "Iteration 11, inertia 2783.254\n",
      "Iteration 12, inertia 2782.792\n",
      "Iteration 13, inertia 2782.444\n",
      "Iteration 14, inertia 2782.153\n",
      "Iteration 15, inertia 2781.636\n",
      "Iteration 16, inertia 2781.422\n",
      "Iteration 17, inertia 2781.188\n",
      "Iteration 18, inertia 2780.980\n",
      "Iteration 19, inertia 2780.888\n",
      "Iteration 20, inertia 2780.837\n",
      "Iteration 21, inertia 2780.752\n",
      "Iteration 22, inertia 2780.650\n",
      "Iteration 23, inertia 2780.616\n",
      "Converged at iteration 23\n",
      "done in 0.425s\n",
      "Cluster 0:\n"
     ]
    },
    {
     "ename": "IndexError",
     "evalue": "list index out of range",
     "output_type": "error",
     "traceback": [
      "\u001b[1;31m---------------------------------------------------------------------------\u001b[0m",
      "\u001b[1;31mIndexError\u001b[0m                                Traceback (most recent call last)",
      "\u001b[1;32m<ipython-input-62-b0a6d54a4ea8>\u001b[0m in \u001b[0;36m<module>\u001b[1;34m()\u001b[0m\n\u001b[0;32m     13\u001b[0m     \u001b[1;32mprint\u001b[0m\u001b[1;33m(\u001b[0m\u001b[1;34m\"Cluster %d:\"\u001b[0m \u001b[1;33m%\u001b[0m \u001b[0mi\u001b[0m\u001b[1;33m)\u001b[0m\u001b[1;33m\u001b[0m\u001b[0m\n\u001b[0;32m     14\u001b[0m     \u001b[1;32mfor\u001b[0m \u001b[0mind\u001b[0m \u001b[1;32min\u001b[0m \u001b[0morder_centroids\u001b[0m\u001b[1;33m[\u001b[0m\u001b[0mi\u001b[0m\u001b[1;33m,\u001b[0m \u001b[1;33m:\u001b[0m\u001b[1;36m10\u001b[0m\u001b[1;33m]\u001b[0m\u001b[1;33m:\u001b[0m\u001b[1;33m\u001b[0m\u001b[0m\n\u001b[1;32m---> 15\u001b[1;33m         \u001b[1;32mprint\u001b[0m \u001b[1;34m'%d %s'\u001b[0m \u001b[1;33m%\u001b[0m \u001b[1;33m(\u001b[0m\u001b[0mind\u001b[0m\u001b[1;33m,\u001b[0m \u001b[0mterms\u001b[0m\u001b[1;33m[\u001b[0m\u001b[0mind\u001b[0m\u001b[1;33m]\u001b[0m\u001b[1;33m)\u001b[0m\u001b[1;33m\u001b[0m\u001b[0m\n\u001b[0m\u001b[0;32m     16\u001b[0m \u001b[1;33m\u001b[0m\u001b[0m\n",
      "\u001b[1;31mIndexError\u001b[0m: list index out of range"
     ]
    }
   ],
   "source": [
    "\n"
   ]
  },
  {
   "cell_type": "code",
   "execution_count": null,
   "metadata": {
    "collapsed": true
   },
   "outputs": [],
   "source": []
  }
 ],
 "metadata": {
  "kernelspec": {
   "display_name": "Python [Root]",
   "language": "python",
   "name": "Python [Root]"
  },
  "language_info": {
   "codemirror_mode": {
    "name": "ipython",
    "version": 2
   },
   "file_extension": ".py",
   "mimetype": "text/x-python",
   "name": "python",
   "nbconvert_exporter": "python",
   "pygments_lexer": "ipython2",
   "version": "2.7.12"
  }
 },
 "nbformat": 4,
 "nbformat_minor": 0
}
